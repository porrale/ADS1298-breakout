{
  "nbformat": 4,
  "nbformat_minor": 0,
  "metadata": {
    "colab": {
      "name": "Clase_01_03.ipynb",
      "provenance": [],
      "authorship_tag": "ABX9TyNIfov7EmAtU6Mrozb0eyop",
      "include_colab_link": true
    },
    "kernelspec": {
      "name": "python3",
      "display_name": "Python 3"
    },
    "language_info": {
      "name": "python"
    }
  },
  "cells": [
    {
      "cell_type": "markdown",
      "metadata": {
        "id": "view-in-github",
        "colab_type": "text"
      },
      "source": [
        "<a href=\"https://colab.research.google.com/github/porrale/ADS1298-breakout/blob/master/Clase_01_03.ipynb\" target=\"_parent\"><img src=\"https://colab.research.google.com/assets/colab-badge.svg\" alt=\"Open In Colab\"/></a>"
      ]
    },
    {
      "cell_type": "markdown",
      "source": [
        "#Python\n",
        "##Machete\n",
        "https://drive.google.com/file/d/1qeV1lTDNN1VfjwMOIQyKHLmpkUIYCUKu/view?usp=sharing\n",
        "#Matplotlib\n",
        "Biblioteca https://matplotlib.org/\n",
        "Matplotlib es una biblioteca para la generación de gráficos a partir de datos contenidos en listas o arrays en el lenguaje de programación Python y su extensión matemática NumPy. Proporciona una API, pylab, diseñada para recordar a la de MATLAB.\n",
        "##Machete\n",
        "https://drive.google.com/file/d/1gA5Lh5155sdRoPDFC7dHd8ScPCkG8KiS/view?usp=sharing\n",
        "\n",
        "#NumPy\n",
        "Biblioteca https://numpy.org/\n",
        "NumPy es una biblioteca para el lenguaje de programación Python que da soporte para crear vectores y matrices grandes multidimensionales, junto con una gran colección de funciones matemáticas de alto nivel para operar con ellas. \n",
        "## Machete \n",
        "https://drive.google.com/file/d/13N8PiEwWEkbJyq1iR7g_URr7a8HSwJUN/view?usp=sharing\n"
      ],
      "metadata": {
        "id": "J8At2c8u06p9"
      }
    },
    {
      "cell_type": "code",
      "execution_count": null,
      "metadata": {
        "id": "y_XouuwA00y0"
      },
      "outputs": [],
      "source": [
        ""
      ]
    }
  ]
}